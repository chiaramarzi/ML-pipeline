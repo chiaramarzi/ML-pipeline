{
  "nbformat": 4,
  "nbformat_minor": 0,
  "metadata": {
    "colab": {
      "provenance": [],
      "include_colab_link": true
    },
    "kernelspec": {
      "name": "python3",
      "display_name": "Python 3"
    },
    "language_info": {
      "name": "python"
    }
  },
  "cells": [
    {
      "cell_type": "markdown",
      "metadata": {
        "id": "view-in-github",
        "colab_type": "text"
      },
      "source": [
        "<a href=\"https://colab.research.google.com/github/chiaramarzi/ML-pipeline-2024/blob/main/pipeline.ipynb\" target=\"_parent\"><img src=\"https://colab.research.google.com/assets/colab-badge.svg\" alt=\"Open In Colab\"/></a>"
      ]
    },
    {
      "cell_type": "markdown",
      "source": [
        "# (The importance of) pipelines for machine learning analysis"
      ],
      "metadata": {
        "id": "dZjtN41HffF_"
      }
    },
    {
      "cell_type": "code",
      "execution_count": null,
      "metadata": {
        "id": "Ynl4QDrqbzqT"
      },
      "outputs": [],
      "source": [
        "# Libraries importation\n",
        "\n",
        "import numpy as np\n",
        "import pandas as pd\n",
        "from sklearn.svm import SVC\n",
        "from sklearn.preprocessing import StandardScaler\n",
        "from sklearn.impute import SimpleImputer\n",
        "from sklearn.model_selection import train_test_split, KFold, cross_validate, GridSearchCV\n",
        "from sklearn.metrics import accuracy_score\n",
        "from sklearn.feature_selection import SelectKBest\n",
        "from sklearn.pipeline import Pipeline"
      ]
    },
    {
      "cell_type": "code",
      "source": [
        "# My repo cloning\n",
        "! git clone https://github.com/chiaramarzi/ML-pipeline-2024\n",
        "\n",
        "%cd /content/ML-pipeline-2024\n",
        "! git pull"
      ],
      "metadata": {
        "id": "leIOp4f5cdoq"
      },
      "execution_count": null,
      "outputs": []
    },
    {
      "cell_type": "code",
      "source": [
        "# Data loading\n",
        "data = pd.read_csv(\"simulated_data_MV.csv\")\n",
        "\n",
        "X = data.iloc[:, 2::]\n",
        "y = data['Gene_mutation']"
      ],
      "metadata": {
        "id": "2oEn4WtEcW8k"
      },
      "execution_count": null,
      "outputs": []
    },
    {
      "cell_type": "code",
      "source": [
        "seed = 1"
      ],
      "metadata": {
        "id": "VFshBd_e__5P"
      },
      "execution_count": null,
      "outputs": []
    },
    {
      "cell_type": "code",
      "source": [
        "scaler = StandardScaler()\n",
        "imputer = SimpleImputer()\n",
        "feat_selector = SelectKBest(k=10)\n",
        "\n",
        "X_preprocessed = feat_selector.fit_transform(scaler.fit_transform(imputer.fit_transform(X)), y)\n",
        "\n",
        "clf = SVC(random_state=0)\n",
        "\n",
        "X_train, X_test, y_train, y_test = train_test_split(X_preprocessed, y, test_size=0.15, random_state=seed)\n",
        "\n",
        "clf.fit(X_train, y_train)\n",
        "y_pred = clf.predict(X_test)\n",
        "acc = accuracy_score(y_test, y_pred)\n",
        "print(f\"Test Accuracy: {round(acc, 2)}\\n\")"
      ],
      "metadata": {
        "id": "nkADsRDa9BjU"
      },
      "execution_count": null,
      "outputs": []
    },
    {
      "cell_type": "code",
      "source": [
        "### HOLDOUT validation ###\n",
        "data = pd.read_csv(\"simulated_data_MV.csv\")\n",
        "\n",
        "X = data.iloc[:, 2::]\n",
        "y = data['Gene_mutation']\n",
        "\n",
        "scaler = StandardScaler()\n",
        "imputer = SimpleImputer()\n",
        "feat_selector = SelectKBest(k=10)\n",
        "X_train, X_test, y_train, y_test = train_test_split(X, y, test_size=0.15, random_state=seed)\n",
        "\n",
        "# Preprocessing on training set (fit and transform)\n",
        "X_train_imputed = imputer.fit_transform(X_train)\n",
        "X_train_imputed_scaled = scaler.fit_transform(X_train_imputed)\n",
        "X_train_imputed_scaled_feat_selected = feat_selector.fit_transform(X_train_imputed_scaled, y_train)\n",
        "# Preprocessing on test set (only transform)\n",
        "X_test_imputed = imputer.transform(X_test)\n",
        "X_test_imputed_scaled = scaler.transform(X_test_imputed)\n",
        "X_test_imputed_scaled_feat_selected = feat_selector.transform(X_test_imputed_scaled)\n",
        "\n",
        "clf = SVC(random_state=0)\n",
        "clf.fit(X_train_imputed_scaled_feat_selected, y_train)\n",
        "y_pred = clf.predict(X_test_imputed_scaled_feat_selected)\n",
        "acc = accuracy_score(y_test, y_pred)\n",
        "print(f\"Test Accuracy: {round(acc, 2)}\\n\")"
      ],
      "metadata": {
        "id": "qW4i5EZMc_im"
      },
      "execution_count": null,
      "outputs": []
    },
    {
      "cell_type": "code",
      "source": [
        "### kfold CV validation ###\n",
        "data = pd.read_csv(\"simulated_data_MV.csv\")\n",
        "\n",
        "X = data.iloc[:, 2::]\n",
        "y = data['Gene_mutation']\n",
        "\n",
        "scaler = StandardScaler()\n",
        "imputer = SimpleImputer()\n",
        "feat_selector = SelectKBest(k=10)\n",
        "kf = KFold(n_splits=5, shuffle = True, random_state = seed)\n",
        "\n",
        "acc_list = []\n",
        "for train_index, test_index in kf.split(X):\n",
        "  X_train = X.iloc[train_index, :]\n",
        "  X_test = X.iloc[test_index, :]\n",
        "  y_train = y[train_index]\n",
        "  y_test = y[test_index]\n",
        "\n",
        "  # Preprocessing on training set (fit and transform)\n",
        "  X_train_imputed = imputer.fit_transform(X_train)\n",
        "  X_train_imputed_scaled = scaler.fit_transform(X_train_imputed)\n",
        "  X_train_imputed_scaled_feat_selected = feat_selector.fit_transform(X_train_imputed_scaled, y_train)\n",
        "  # Preprocessing on test set (only transform)\n",
        "  X_test_imputed = imputer.transform(X_test)\n",
        "  X_test_imputed_scaled = scaler.transform(X_test_imputed)\n",
        "  X_test_imputed_scaled_feat_selected = feat_selector.transform(X_test_imputed_scaled)\n",
        "\n",
        "  clf = SVC(random_state=0)\n",
        "  clf.fit(X_train_imputed_scaled_feat_selected, y_train)\n",
        "  y_pred = clf.predict(X_test_imputed_scaled_feat_selected)\n",
        "  acc = accuracy_score(y_test, y_pred)\n",
        "  print(f\"Test Accuracy: {round(acc, 2)}\\n\")\n",
        "  acc_list.append(acc)\n",
        "\n",
        "print(f\"Average Test Accuracy: {round(np.mean(acc_list), 2)}\\n\")"
      ],
      "metadata": {
        "id": "ZLpQFQ9P3M18"
      },
      "execution_count": null,
      "outputs": []
    },
    {
      "cell_type": "code",
      "source": [
        "### The pipeline ###\n",
        "data = pd.read_csv(\"simulated_data_MV.csv\")\n",
        "\n",
        "X = data.iloc[:, 2::]\n",
        "y = data['Gene_mutation']\n",
        "\n",
        "scaler = StandardScaler()\n",
        "imputer = SimpleImputer()\n",
        "feat_selector = SelectKBest(k=10)\n",
        "clf = SVC(random_state=0)\n",
        "pipe = Pipeline([('imputer', imputer), ('scaler', scaler), ('feat_selector', feat_selector), ('clf', clf)])\n",
        "\n",
        "pipe"
      ],
      "metadata": {
        "id": "MIALJqdV5BWN"
      },
      "execution_count": null,
      "outputs": []
    },
    {
      "cell_type": "code",
      "source": [
        "## HOLDOUT validation ##\n",
        "X_train, X_test, y_train, y_test = train_test_split(X, y, test_size=0.15, random_state=seed)\n",
        "pipe.fit(X_train, y_train)\n",
        "y_pred = pipe.predict(X_test)\n",
        "acc = accuracy_score(y_test, y_pred)\n",
        "print(f\"Test Accuracy: {round(acc, 2)}\\n\")"
      ],
      "metadata": {
        "id": "cPSIEyWw5yJE"
      },
      "execution_count": null,
      "outputs": []
    },
    {
      "cell_type": "code",
      "source": [
        "## kfold CV validation ##\n",
        "data = pd.read_csv(\"simulated_data_MV.csv\")\n",
        "\n",
        "X = data.iloc[:, 2::]\n",
        "y = data['Gene_mutation']\n",
        "\n",
        "scaler = StandardScaler()\n",
        "imputer = SimpleImputer()\n",
        "feat_selector = SelectKBest(k=10)\n",
        "clf = SVC(random_state=0)\n",
        "pipe = Pipeline([('imputer', imputer), ('scaler', scaler), ('feat_selector', feat_selector), ('clf', clf)])\n",
        "\n",
        "kf = KFold(n_splits=5, shuffle = True, random_state = seed)\n",
        "\n",
        "scores = cross_validate(pipe, X, y=y, scoring='accuracy', cv=kf, return_estimator=True)\n",
        "print(f\"Test Accuracy: {scores['test_score']}\\n\")\n",
        "print(f\"Average Test Accuracy: {round(np.mean(scores['test_score']),2)}\\n\")"
      ],
      "metadata": {
        "id": "LOa6gPLU6Hgu"
      },
      "execution_count": null,
      "outputs": []
    },
    {
      "cell_type": "code",
      "source": [
        "## Nested kfold CV validation with hyperparameters optimization##\n",
        "data = pd.read_csv(\"simulated_data_MV.csv\")\n",
        "\n",
        "X = data.iloc[:, 2::]\n",
        "y = data['Gene_mutation']\n",
        "\n",
        "scaler = StandardScaler()\n",
        "imputer = SimpleImputer()\n",
        "feat_selector = SelectKBest(k=10)\n",
        "clf = SVC(random_state=0)\n",
        "pipe = Pipeline([('imputer', imputer), ('scaler', scaler), ('feat_selector', feat_selector), ('clf', clf)])\n",
        "\n",
        "param_grid = {\n",
        "    \"imputer__strategy\": [\"mean\", \"most_frequent\"],\n",
        "    \"feat_selector__k\": [1, 20, 20],\n",
        "    \"clf__C\": [0.1, 1],\n",
        "    \"clf__kernel\": [\"poly\", \"rbf\"],\n",
        "    \"clf__degree\": [2]\n",
        "}\n",
        "\n",
        "kf_inner = KFold(n_splits=10, shuffle = True, random_state = seed)\n",
        "kf_outer = KFold(n_splits=5, shuffle = True, random_state = seed)\n",
        "\n",
        "gs = GridSearchCV(pipe, param_grid, scoring='accuracy', refit=True, cv=kf_inner, verbose=0, return_train_score=True)\n",
        "scores = cross_validate(gs, X, y=y, scoring='accuracy', cv=kf_outer, return_estimator=True)\n",
        "print(f\"Test Accuracy: {scores['test_score']}\\n\")\n",
        "print(f\"Average Test Accuracy: {round(np.mean(scores['test_score']),2)}\\n\")"
      ],
      "metadata": {
        "id": "dTF4KcmNHI-c"
      },
      "execution_count": null,
      "outputs": []
    },
    {
      "cell_type": "code",
      "source": [
        "print(scores['estimator'][0].best_params_)\n",
        "print(scores['estimator'][1].best_params_)\n",
        "print(scores['estimator'][2].best_params_)\n",
        "print(scores['estimator'][3].best_params_)\n",
        "print(scores['estimator'][4].best_params_)"
      ],
      "metadata": {
        "id": "2iUAas0IPdn1"
      },
      "execution_count": null,
      "outputs": []
    }
  ]
}