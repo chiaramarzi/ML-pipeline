{
  "nbformat": 4,
  "nbformat_minor": 0,
  "metadata": {
    "colab": {
      "provenance": [],
      "mount_file_id": "18jnz2zjCM4wiRAtJrCuuOx8_rAYX9ffn",
      "authorship_tag": "ABX9TyMmj+CGb7juhFHaStGdMvmw",
      "include_colab_link": true
    },
    "kernelspec": {
      "name": "python3",
      "display_name": "Python 3"
    },
    "language_info": {
      "name": "python"
    }
  },
  "cells": [
    {
      "cell_type": "markdown",
      "metadata": {
        "id": "view-in-github",
        "colab_type": "text"
      },
      "source": [
        "<a href=\"https://colab.research.google.com/github/chiaramarzi/ML-pipeline-2024/blob/main/pipeline.ipynb\" target=\"_parent\"><img src=\"https://colab.research.google.com/assets/colab-badge.svg\" alt=\"Open In Colab\"/></a>"
      ]
    },
    {
      "cell_type": "markdown",
      "source": [
        "# (The importance of) pipelines for machine learning analysis"
      ],
      "metadata": {
        "id": "dZjtN41HffF_"
      }
    },
    {
      "cell_type": "code",
      "execution_count": 23,
      "metadata": {
        "id": "Ynl4QDrqbzqT"
      },
      "outputs": [],
      "source": [
        "# Libraries importation\n",
        "\n",
        "import numpy as np\n",
        "import pandas as pd\n",
        "from sklearn.svm import SVC\n",
        "from sklearn.preprocessing import StandardScaler\n",
        "from sklearn.impute import SimpleImputer\n",
        "from sklearn.model_selection import train_test_split, KFold, cross_validate, GridSearchCV\n",
        "from sklearn.metrics import accuracy_score\n",
        "from sklearn.feature_selection import SelectKBest\n",
        "from sklearn.pipeline import Pipeline"
      ]
    },
    {
      "cell_type": "code",
      "source": [
        "cd \"drive/MyDrive/Colab Notebooks/\""
      ],
      "metadata": {
        "colab": {
          "base_uri": "https://localhost:8080/"
        },
        "id": "leIOp4f5cdoq",
        "outputId": "f7d77066-ca9c-48df-c7e3-94cd00b2e511"
      },
      "execution_count": 2,
      "outputs": [
        {
          "output_type": "stream",
          "name": "stdout",
          "text": [
            "/content/drive/MyDrive/Colab Notebooks\n"
          ]
        }
      ]
    },
    {
      "cell_type": "code",
      "source": [
        "# Data loading\n",
        "data = pd.read_csv(\"simulated_data_MV.csv\")\n",
        "\n",
        "X = data.iloc[:, 2::]\n",
        "y = data['Gene_mutation']"
      ],
      "metadata": {
        "id": "2oEn4WtEcW8k"
      },
      "execution_count": 3,
      "outputs": []
    },
    {
      "cell_type": "code",
      "source": [
        "seed = 1"
      ],
      "metadata": {
        "id": "VFshBd_e__5P"
      },
      "execution_count": 4,
      "outputs": []
    },
    {
      "cell_type": "code",
      "source": [
        "scaler = StandardScaler()\n",
        "imputer = SimpleImputer()\n",
        "feat_selector = SelectKBest(k=10)\n",
        "\n",
        "X_preprocessed = feat_selector.fit_transform(scaler.fit_transform(imputer.fit_transform(X)), y)\n",
        "\n",
        "clf = SVC(random_state=0)\n",
        "\n",
        "X_train, X_test, y_train, y_test = train_test_split(X_preprocessed, y, test_size=0.15, random_state=seed)\n",
        "\n",
        "clf.fit(X_train, y_train)\n",
        "y_pred = clf.predict(X_test)\n",
        "acc = accuracy_score(y_test, y_pred)\n",
        "print(f\"Test Accuracy: {round(acc, 2)}\\n\")"
      ],
      "metadata": {
        "colab": {
          "base_uri": "https://localhost:8080/"
        },
        "id": "nkADsRDa9BjU",
        "outputId": "565a6fbc-e670-4e5b-c5f5-6fa2903c4e76"
      },
      "execution_count": 7,
      "outputs": [
        {
          "output_type": "stream",
          "name": "stdout",
          "text": [
            "Test Accuracy: 0.89\n",
            "\n"
          ]
        }
      ]
    },
    {
      "cell_type": "code",
      "source": [
        "### HOLDOUT validation ###\n",
        "data = pd.read_csv(\"simulated_data_MV.csv\")\n",
        "\n",
        "X = data.iloc[:, 2::]\n",
        "y = data['Gene_mutation']\n",
        "\n",
        "scaler = StandardScaler()\n",
        "imputer = SimpleImputer()\n",
        "feat_selector = SelectKBest(k=10)\n",
        "X_train, X_test, y_train, y_test = train_test_split(X, y, test_size=0.15, random_state=seed)\n",
        "\n",
        "# Preprocessing on training set (fit and transform)\n",
        "X_train_imputed = imputer.fit_transform(X_train)\n",
        "X_train_imputed_scaled = scaler.fit_transform(X_train_imputed)\n",
        "X_train_imputed_scaled_feat_selected = feat_selector.fit_transform(X_train_imputed_scaled, y_train)\n",
        "# Preprocessing on test set (only transform)\n",
        "X_test_imputed = imputer.transform(X_test)\n",
        "X_test_imputed_scaled = scaler.transform(X_test_imputed)\n",
        "X_test_imputed_scaled_feat_selected = feat_selector.transform(X_test_imputed_scaled)\n",
        "\n",
        "clf = SVC(random_state=0)\n",
        "clf.fit(X_train_imputed_scaled_feat_selected, y_train)\n",
        "y_pred = clf.predict(X_test_imputed_scaled_feat_selected)\n",
        "acc = accuracy_score(y_test, y_pred)\n",
        "print(f\"Test Accuracy: {round(acc, 2)}\\n\")"
      ],
      "metadata": {
        "colab": {
          "base_uri": "https://localhost:8080/"
        },
        "id": "qW4i5EZMc_im",
        "outputId": "ec12cf1f-74f0-4d56-84fa-fc8810908c25"
      },
      "execution_count": 8,
      "outputs": [
        {
          "output_type": "stream",
          "name": "stdout",
          "text": [
            "Test Accuracy: 0.85\n",
            "\n"
          ]
        }
      ]
    },
    {
      "cell_type": "code",
      "source": [
        "### kfold CV validation ###\n",
        "data = pd.read_csv(\"simulated_data_MV.csv\")\n",
        "\n",
        "X = data.iloc[:, 2::]\n",
        "y = data['Gene_mutation']\n",
        "\n",
        "scaler = StandardScaler()\n",
        "imputer = SimpleImputer()\n",
        "feat_selector = SelectKBest(k=10)\n",
        "kf = KFold(n_splits=5, shuffle = True, random_state = seed)\n",
        "\n",
        "acc_list = []\n",
        "for train_index, test_index in kf.split(X):\n",
        "  X_train = X.iloc[train_index, :]\n",
        "  X_test = X.iloc[test_index, :]\n",
        "  y_train = y[train_index]\n",
        "  y_test = y[test_index]\n",
        "\n",
        "  # Preprocessing on training set (fit and transform)\n",
        "  X_train_imputed = imputer.fit_transform(X_train)\n",
        "  X_train_imputed_scaled = scaler.fit_transform(X_train_imputed)\n",
        "  X_train_imputed_scaled_feat_selected = feat_selector.fit_transform(X_train_imputed_scaled, y_train)\n",
        "  # Preprocessing on test set (only transform)\n",
        "  X_test_imputed = imputer.transform(X_test)\n",
        "  X_test_imputed_scaled = scaler.transform(X_test_imputed)\n",
        "  X_test_imputed_scaled_feat_selected = feat_selector.transform(X_test_imputed_scaled)\n",
        "\n",
        "  clf = SVC(random_state=0)\n",
        "  clf.fit(X_train_imputed_scaled_feat_selected, y_train)\n",
        "  y_pred = clf.predict(X_test_imputed_scaled_feat_selected)\n",
        "  acc = accuracy_score(y_test, y_pred)\n",
        "  print(f\"Test Accuracy: {round(acc, 2)}\\n\")\n",
        "  acc_list.append(acc)\n",
        "\n",
        "print(f\"Average Test Accuracy: {round(np.mean(acc_list), 2)}\\n\")"
      ],
      "metadata": {
        "colab": {
          "base_uri": "https://localhost:8080/"
        },
        "id": "ZLpQFQ9P3M18",
        "outputId": "68555135-ba10-46e4-db45-17a2960736e6"
      },
      "execution_count": 14,
      "outputs": [
        {
          "output_type": "stream",
          "name": "stdout",
          "text": [
            "Test Accuracy: 0.83\n",
            "\n",
            "Test Accuracy: 0.8\n",
            "\n",
            "Test Accuracy: 0.79\n",
            "\n",
            "Test Accuracy: 0.81\n",
            "\n",
            "Test Accuracy: 0.79\n",
            "\n",
            "Average Test Accuracy: 0.8\n",
            "\n"
          ]
        }
      ]
    },
    {
      "cell_type": "code",
      "source": [
        "### The pipeline ###\n",
        "data = pd.read_csv(\"simulated_data_MV.csv\")\n",
        "\n",
        "X = data.iloc[:, 2::]\n",
        "y = data['Gene_mutation']\n",
        "\n",
        "scaler = StandardScaler()\n",
        "imputer = SimpleImputer()\n",
        "feat_selector = SelectKBest(k=10)\n",
        "clf = SVC(random_state=0)\n",
        "pipe = Pipeline([('imputer', imputer), ('scaler', scaler), ('feat_selector', feat_selector), ('clf', clf)])\n",
        "\n",
        "pipe"
      ],
      "metadata": {
        "colab": {
          "base_uri": "https://localhost:8080/",
          "height": 193
        },
        "id": "MIALJqdV5BWN",
        "outputId": "3e766202-bd75-4664-c8d7-0afc17afa2f4"
      },
      "execution_count": 16,
      "outputs": [
        {
          "output_type": "execute_result",
          "data": {
            "text/plain": [
              "Pipeline(steps=[('imputer', SimpleImputer()), ('scaler', StandardScaler()),\n",
              "                ('feat_selector', SelectKBest()),\n",
              "                ('clf', SVC(random_state=0))])"
            ],
            "text/html": [
              "<style>#sk-container-id-1 {color: black;background-color: white;}#sk-container-id-1 pre{padding: 0;}#sk-container-id-1 div.sk-toggleable {background-color: white;}#sk-container-id-1 label.sk-toggleable__label {cursor: pointer;display: block;width: 100%;margin-bottom: 0;padding: 0.3em;box-sizing: border-box;text-align: center;}#sk-container-id-1 label.sk-toggleable__label-arrow:before {content: \"▸\";float: left;margin-right: 0.25em;color: #696969;}#sk-container-id-1 label.sk-toggleable__label-arrow:hover:before {color: black;}#sk-container-id-1 div.sk-estimator:hover label.sk-toggleable__label-arrow:before {color: black;}#sk-container-id-1 div.sk-toggleable__content {max-height: 0;max-width: 0;overflow: hidden;text-align: left;background-color: #f0f8ff;}#sk-container-id-1 div.sk-toggleable__content pre {margin: 0.2em;color: black;border-radius: 0.25em;background-color: #f0f8ff;}#sk-container-id-1 input.sk-toggleable__control:checked~div.sk-toggleable__content {max-height: 200px;max-width: 100%;overflow: auto;}#sk-container-id-1 input.sk-toggleable__control:checked~label.sk-toggleable__label-arrow:before {content: \"▾\";}#sk-container-id-1 div.sk-estimator input.sk-toggleable__control:checked~label.sk-toggleable__label {background-color: #d4ebff;}#sk-container-id-1 div.sk-label input.sk-toggleable__control:checked~label.sk-toggleable__label {background-color: #d4ebff;}#sk-container-id-1 input.sk-hidden--visually {border: 0;clip: rect(1px 1px 1px 1px);clip: rect(1px, 1px, 1px, 1px);height: 1px;margin: -1px;overflow: hidden;padding: 0;position: absolute;width: 1px;}#sk-container-id-1 div.sk-estimator {font-family: monospace;background-color: #f0f8ff;border: 1px dotted black;border-radius: 0.25em;box-sizing: border-box;margin-bottom: 0.5em;}#sk-container-id-1 div.sk-estimator:hover {background-color: #d4ebff;}#sk-container-id-1 div.sk-parallel-item::after {content: \"\";width: 100%;border-bottom: 1px solid gray;flex-grow: 1;}#sk-container-id-1 div.sk-label:hover label.sk-toggleable__label {background-color: #d4ebff;}#sk-container-id-1 div.sk-serial::before {content: \"\";position: absolute;border-left: 1px solid gray;box-sizing: border-box;top: 0;bottom: 0;left: 50%;z-index: 0;}#sk-container-id-1 div.sk-serial {display: flex;flex-direction: column;align-items: center;background-color: white;padding-right: 0.2em;padding-left: 0.2em;position: relative;}#sk-container-id-1 div.sk-item {position: relative;z-index: 1;}#sk-container-id-1 div.sk-parallel {display: flex;align-items: stretch;justify-content: center;background-color: white;position: relative;}#sk-container-id-1 div.sk-item::before, #sk-container-id-1 div.sk-parallel-item::before {content: \"\";position: absolute;border-left: 1px solid gray;box-sizing: border-box;top: 0;bottom: 0;left: 50%;z-index: -1;}#sk-container-id-1 div.sk-parallel-item {display: flex;flex-direction: column;z-index: 1;position: relative;background-color: white;}#sk-container-id-1 div.sk-parallel-item:first-child::after {align-self: flex-end;width: 50%;}#sk-container-id-1 div.sk-parallel-item:last-child::after {align-self: flex-start;width: 50%;}#sk-container-id-1 div.sk-parallel-item:only-child::after {width: 0;}#sk-container-id-1 div.sk-dashed-wrapped {border: 1px dashed gray;margin: 0 0.4em 0.5em 0.4em;box-sizing: border-box;padding-bottom: 0.4em;background-color: white;}#sk-container-id-1 div.sk-label label {font-family: monospace;font-weight: bold;display: inline-block;line-height: 1.2em;}#sk-container-id-1 div.sk-label-container {text-align: center;}#sk-container-id-1 div.sk-container {/* jupyter's `normalize.less` sets `[hidden] { display: none; }` but bootstrap.min.css set `[hidden] { display: none !important; }` so we also need the `!important` here to be able to override the default hidden behavior on the sphinx rendered scikit-learn.org. See: https://github.com/scikit-learn/scikit-learn/issues/21755 */display: inline-block !important;position: relative;}#sk-container-id-1 div.sk-text-repr-fallback {display: none;}</style><div id=\"sk-container-id-1\" class=\"sk-top-container\"><div class=\"sk-text-repr-fallback\"><pre>Pipeline(steps=[(&#x27;imputer&#x27;, SimpleImputer()), (&#x27;scaler&#x27;, StandardScaler()),\n",
              "                (&#x27;feat_selector&#x27;, SelectKBest()),\n",
              "                (&#x27;clf&#x27;, SVC(random_state=0))])</pre><b>In a Jupyter environment, please rerun this cell to show the HTML representation or trust the notebook. <br />On GitHub, the HTML representation is unable to render, please try loading this page with nbviewer.org.</b></div><div class=\"sk-container\" hidden><div class=\"sk-item sk-dashed-wrapped\"><div class=\"sk-label-container\"><div class=\"sk-label sk-toggleable\"><input class=\"sk-toggleable__control sk-hidden--visually\" id=\"sk-estimator-id-1\" type=\"checkbox\" ><label for=\"sk-estimator-id-1\" class=\"sk-toggleable__label sk-toggleable__label-arrow\">Pipeline</label><div class=\"sk-toggleable__content\"><pre>Pipeline(steps=[(&#x27;imputer&#x27;, SimpleImputer()), (&#x27;scaler&#x27;, StandardScaler()),\n",
              "                (&#x27;feat_selector&#x27;, SelectKBest()),\n",
              "                (&#x27;clf&#x27;, SVC(random_state=0))])</pre></div></div></div><div class=\"sk-serial\"><div class=\"sk-item\"><div class=\"sk-estimator sk-toggleable\"><input class=\"sk-toggleable__control sk-hidden--visually\" id=\"sk-estimator-id-2\" type=\"checkbox\" ><label for=\"sk-estimator-id-2\" class=\"sk-toggleable__label sk-toggleable__label-arrow\">SimpleImputer</label><div class=\"sk-toggleable__content\"><pre>SimpleImputer()</pre></div></div></div><div class=\"sk-item\"><div class=\"sk-estimator sk-toggleable\"><input class=\"sk-toggleable__control sk-hidden--visually\" id=\"sk-estimator-id-3\" type=\"checkbox\" ><label for=\"sk-estimator-id-3\" class=\"sk-toggleable__label sk-toggleable__label-arrow\">StandardScaler</label><div class=\"sk-toggleable__content\"><pre>StandardScaler()</pre></div></div></div><div class=\"sk-item\"><div class=\"sk-estimator sk-toggleable\"><input class=\"sk-toggleable__control sk-hidden--visually\" id=\"sk-estimator-id-4\" type=\"checkbox\" ><label for=\"sk-estimator-id-4\" class=\"sk-toggleable__label sk-toggleable__label-arrow\">SelectKBest</label><div class=\"sk-toggleable__content\"><pre>SelectKBest()</pre></div></div></div><div class=\"sk-item\"><div class=\"sk-estimator sk-toggleable\"><input class=\"sk-toggleable__control sk-hidden--visually\" id=\"sk-estimator-id-5\" type=\"checkbox\" ><label for=\"sk-estimator-id-5\" class=\"sk-toggleable__label sk-toggleable__label-arrow\">SVC</label><div class=\"sk-toggleable__content\"><pre>SVC(random_state=0)</pre></div></div></div></div></div></div></div>"
            ]
          },
          "metadata": {},
          "execution_count": 16
        }
      ]
    },
    {
      "cell_type": "code",
      "source": [
        "## HOLDOUT validation ##\n",
        "X_train, X_test, y_train, y_test = train_test_split(X, y, test_size=0.15, random_state=seed)\n",
        "pipe.fit(X_train, y_train)\n",
        "y_pred = pipe.predict(X_test)\n",
        "acc = accuracy_score(y_test, y_pred)\n",
        "print(f\"Test Accuracy: {round(acc, 2)}\\n\")"
      ],
      "metadata": {
        "colab": {
          "base_uri": "https://localhost:8080/"
        },
        "id": "cPSIEyWw5yJE",
        "outputId": "7176ce9f-20eb-4cd3-9068-b05b5bcff749"
      },
      "execution_count": 17,
      "outputs": [
        {
          "output_type": "stream",
          "name": "stdout",
          "text": [
            "Test Accuracy: 0.85\n",
            "\n"
          ]
        }
      ]
    },
    {
      "cell_type": "code",
      "source": [
        "## kfold CV validation ##\n",
        "data = pd.read_csv(\"simulated_data_MV.csv\")\n",
        "\n",
        "X = data.iloc[:, 2::]\n",
        "y = data['Gene_mutation']\n",
        "\n",
        "scaler = StandardScaler()\n",
        "imputer = SimpleImputer()\n",
        "feat_selector = SelectKBest(k=10)\n",
        "clf = SVC(random_state=0)\n",
        "pipe = Pipeline([('imputer', imputer), ('scaler', scaler), ('feat_selector', feat_selector), ('clf', clf)])\n",
        "\n",
        "kf = KFold(n_splits=5, shuffle = True, random_state = seed)\n",
        "\n",
        "scores = cross_validate(pipe, X, y=y, scoring='accuracy', cv=kf, return_estimator=True)\n",
        "print(f\"Test Accuracy: {scores['test_score']}\\n\")\n",
        "print(f\"Average Test Accuracy: {round(np.mean(scores['test_score']),2)}\\n\")"
      ],
      "metadata": {
        "colab": {
          "base_uri": "https://localhost:8080/"
        },
        "id": "LOa6gPLU6Hgu",
        "outputId": "6596a9c9-3eba-48c4-f407-215596b25c65"
      },
      "execution_count": 22,
      "outputs": [
        {
          "output_type": "stream",
          "name": "stdout",
          "text": [
            "Test Accuracy: [0.83 0.8  0.79 0.81 0.79]\n",
            "\n",
            "Average Test Accuracy: 0.8\n",
            "\n"
          ]
        }
      ]
    },
    {
      "cell_type": "code",
      "source": [
        "## Nested kfold CV validation with hyperparameters optimization##\n",
        "data = pd.read_csv(\"simulated_data_MV.csv\")\n",
        "\n",
        "X = data.iloc[:, 2::]\n",
        "y = data['Gene_mutation']\n",
        "\n",
        "scaler = StandardScaler()\n",
        "imputer = SimpleImputer()\n",
        "feat_selector = SelectKBest(k=10)\n",
        "clf = SVC(random_state=0)\n",
        "pipe = Pipeline([('imputer', imputer), ('scaler', scaler), ('feat_selector', feat_selector), ('clf', clf)])\n",
        "\n",
        "param_grid = {\n",
        "    \"imputer__strategy\": [\"mean\", \"most_frequent\"],\n",
        "    \"feat_selector__k\": [1, 20, 20],\n",
        "    \"clf__C\": [0.1, 1],\n",
        "    \"clf__kernel\": [\"poly\", \"rbf\"],\n",
        "    \"clf__degree\": [2]\n",
        "}\n",
        "\n",
        "kf_inner = KFold(n_splits=10, shuffle = True, random_state = seed)\n",
        "kf_outer = KFold(n_splits=5, shuffle = True, random_state = seed)\n",
        "\n",
        "gs = GridSearchCV(pipe, param_grid, scoring='accuracy', refit=True, cv=kf_inner, verbose=0, return_train_score=True)\n",
        "scores = cross_validate(gs, X, y=y, scoring='accuracy', cv=kf_outer, return_estimator=True)\n",
        "print(f\"Test Accuracy: {scores['test_score']}\\n\")\n",
        "print(f\"Average Test Accuracy: {round(np.mean(scores['test_score']),2)}\\n\")"
      ],
      "metadata": {
        "colab": {
          "base_uri": "https://localhost:8080/"
        },
        "id": "dTF4KcmNHI-c",
        "outputId": "875ecbc0-2b51-42d6-e872-d1b278c8757f"
      },
      "execution_count": 30,
      "outputs": [
        {
          "output_type": "stream",
          "name": "stdout",
          "text": [
            "Test Accuracy: [0.8  0.82 0.78 0.79 0.78]\n",
            "\n",
            "Average Test Accuracy: 0.79\n",
            "\n"
          ]
        }
      ]
    },
    {
      "cell_type": "code",
      "source": [
        "print(scores['estimator'][0].best_params_)\n",
        "print(scores['estimator'][1].best_params_)\n",
        "print(scores['estimator'][2].best_params_)\n",
        "print(scores['estimator'][3].best_params_)\n",
        "print(scores['estimator'][4].best_params_)"
      ],
      "metadata": {
        "colab": {
          "base_uri": "https://localhost:8080/"
        },
        "id": "2iUAas0IPdn1",
        "outputId": "7359aafa-9729-41a9-f57d-d608d7e8f71a"
      },
      "execution_count": 37,
      "outputs": [
        {
          "output_type": "stream",
          "name": "stdout",
          "text": [
            "{'clf__C': 1, 'clf__degree': 2, 'clf__kernel': 'rbf', 'feat_selector__k': 1, 'imputer__strategy': 'mean'}\n",
            "{'clf__C': 1, 'clf__degree': 2, 'clf__kernel': 'rbf', 'feat_selector__k': 20, 'imputer__strategy': 'mean'}\n",
            "{'clf__C': 1, 'clf__degree': 2, 'clf__kernel': 'rbf', 'feat_selector__k': 20, 'imputer__strategy': 'mean'}\n",
            "{'clf__C': 1, 'clf__degree': 2, 'clf__kernel': 'rbf', 'feat_selector__k': 20, 'imputer__strategy': 'mean'}\n",
            "{'clf__C': 1, 'clf__degree': 2, 'clf__kernel': 'rbf', 'feat_selector__k': 20, 'imputer__strategy': 'mean'}\n"
          ]
        }
      ]
    }
  ]
}